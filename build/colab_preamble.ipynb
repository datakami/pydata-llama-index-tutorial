{
 "metadata": {

   "colab": {
     "name": "pydata-llama-index-tutorial-colab.ipynb",
     "private_outputs": false,
     "provenance": [],
     "cell_execution_strategy": "setup"
   },
   "kernelspec": {
     "name": "python3",
     "display_name": "Python 3"
   },
   "language_info": {
     "name": "python"
   },
   "accelerator": "GPU",
   "gpuClass": "standard"
 },
 "cells": [
  {
   "cell_type": "markdown",
   "id": "12976e25-8fc1-48d4-9186-9d2bcea0de92",
   "metadata": {},
   "source": [
    "# Running this notebook in Google Colab\n",
    "This notebook is intended to run in Google Colab [here](https://colab.research.google.com/github/datakami/pydata-llama-index-tutorial/blob/main/Colab-Exercises.ipynb).\n",
    "\n",
    "Simply execute the code below to install the neccessary dependencies and download the data."
   ]
  },
  {
   "cell_type": "code",
   "execution_count": null,
   "id": "9da5883c-d4ec-43e0-bc95-835f875b6c77",
   "metadata": {},
   "outputs": [],
   "source": [
    "%pip install llama-index==0.8.5.post2 sentence-transformers==2.2.2 loguru==0.7.0\n",
    "# download the data\n",
    "from urllib.request import urlretrieve\n",
    "path, _ = urlretrieve(\"https://pub.yori.cc/lid_data.zip\")\n",
    "import zipfile\n",
    "with zipfile.ZipFile(path, 'r') as zip_ref:\n",
    "    zip_ref.extractall(\".\")\n",
    "!mv pydata-llama-index-tutorial-main/data pydata-llama-index-tutorial-main/indices ."
   ]
  }
 ],
 "nbformat": 4,
 "nbformat_minor": 5
}
