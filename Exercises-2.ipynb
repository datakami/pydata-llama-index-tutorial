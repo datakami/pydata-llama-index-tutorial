{
  "cells": [
    {
      "cell_type": "markdown",
      "id": "c913d2a2-f87f-4505-abb4-49e6b2291e52",
      "metadata": {},
      "source": [
        "# Part 2: Building a custom vector index"
      ]
    },
    {
      "cell_type": "markdown",
      "id": "e03ae8f4-83b1-49a8-bf1e-19180366a102",
      "metadata": {},
      "source": [
        "## Setup"
      ]
    },
    {
      "cell_type": "markdown",
      "id": "038506f9-dcca-400c-b10b-5e7e612b1792",
      "metadata": {},
      "source": [
        "### Imports"
      ]
    },
    {
      "cell_type": "code",
      "execution_count": null,
      "id": "effd39ab-b6ba-4d69-8e8f-39f382d7712f",
      "metadata": {},
      "outputs": [],
      "source": [
        "import pprint\n",
        "import json\n",
        "import os\n",
        "import sys\n",
        "from pathlib import Path\n",
        "from loguru import logger\n",
        "import llama_index"
      ]
    },
    {
      "cell_type": "markdown",
      "id": "a4bd8c85-03d8-4894-8dfe-b419d4f6b6f2",
      "metadata": {},
      "source": [
        "### Logging"
      ]
    },
    {
      "cell_type": "code",
      "execution_count": null,
      "id": "5f44daa1-a3e6-45bf-bc6e-8c84fad646b2",
      "metadata": {},
      "outputs": [
        {
          "data": {
            "text/plain": [
              "2"
            ]
          },
          "execution_count": null,
          "metadata": {},
          "output_type": "execute_result"
        }
      ],
      "source": [
        "logger.remove()\n",
        "logger.add(sys.stdout, format=\"{time} - {level} - {message}\", level=\"DEBUG\")\n",
        "logger.add(\"tutorial_part_1.log\", level=\"DEBUG\")"
      ]
    },
    {
      "cell_type": "code",
      "execution_count": null,
      "id": "84e2e8b1-5b94-4dcf-b109-9e8351b087b4",
      "metadata": {},
      "outputs": [],
      "source": [
        "DATA_PATH = Path(\"data/julia_evans/blogposts.json\")"
      ]
    },
    {
      "cell_type": "markdown",
      "id": "da94c113-deb9-49fc-a072-3f82f82afadd",
      "metadata": {},
      "source": [
        "### Load Julia Evans blogpost data from file"
      ]
    },
    {
      "cell_type": "code",
      "execution_count": null,
      "id": "a5876b6c-0373-43d4-8f28-26b40dbf5f2a",
      "metadata": {},
      "outputs": [],
      "source": [
        "with open(DATA_PATH, 'r') as infile:\n",
        "    blogposts = json.loads(infile.read())"
      ]
    },
    {
      "cell_type": "code",
      "execution_count": null,
      "id": "c02640e6-afcf-4eb6-a5e7-e89cf7914cd3",
      "metadata": {},
      "outputs": [
        {
          "name": "stdout",
          "output_type": "stream",
          "text": [
            "2023-09-04T17:07:40.027379+0200 - INFO - Loaded 20 blogposts from file.\n"
          ]
        }
      ],
      "source": [
        "logger.info(f\"Loaded {len(blogposts)} blogposts from file.\")"
      ]
    },
    {
      "cell_type": "code",
      "execution_count": null,
      "id": "db2b0d29-ce87-454f-b7b8-e6ddd3a52c87",
      "metadata": {},
      "outputs": [
        {
          "name": "stdout",
          "output_type": "stream",
          "text": [
            "1: Notes on using a single-person Mastodon server\n",
            "2: What helps people get comfortable on the command line?\n",
            "3: Some tactics for writing in public\n",
            "4: Behind \"Hello World\" on Linux\n",
            "5: Why is DNS still hard to learn?\n",
            "6: Lima: a nice way to run Linux VMs on Mac\n",
            "7: Open sourcing the nginx playground\n",
            "8: New zine: How Integers and Floats Work\n",
            "9: Some blogging myths\n",
            "10: New playground: memory spy\n",
            "11: Introducing \"Implement DNS in a Weekend\"\n",
            "12: New talk: Learning DNS in 10 years\n",
            "13: New playground: integer.exposed\n",
            "14: A list of programming playgrounds\n",
            "15: Building a custom site for zine feedback\n",
            "16: Some possible reasons for 8-bit bytes\n",
            "17: How do Nix builds work?\n",
            "18: Some notes on using nix\n",
            "19: Writing Javascript without a build system\n",
            "20: Print copies of The Pocket Guide to Debugging have arrived\n"
          ]
        }
      ],
      "source": [
        "for idx, post in enumerate(blogposts):\n",
        "    print(f\"{idx+1}: {post['title']}\")"
      ]
    },
    {
      "cell_type": "code",
      "execution_count": null,
      "id": "867fe918-339e-4de3-a614-f73a44f4b949",
      "metadata": {},
      "outputs": [
        {
          "name": "stdout",
          "output_type": "stream",
          "text": [
            "Example blogpost:\n",
            "{'author': 'Julia Evans',\n",
            " 'guidislink': False,\n",
            " 'id': 'https://jvns.ca/blog/2023/08/11/some-notes-on-mastodon/',\n",
            " 'link': 'https://jvns.ca/blog/2023/08/11/some-notes-on-mastodon/',\n",
            " 'text': \"I started using Mastodon back in November, and it's the Twitter \"\n",
            "         \"alternative where I've been spending most of my time recently, \"\n",
            "         'mostly because the Fediverse is where a lot of the Linux nerds seem '\n",
            "         'to be right now.\\n'\n",
            "         '\\n'\n",
            "         \"I've found Mastodon quite a bit more confusing than Twitter because \"\n",
            "         \"it's a distributed system, so here are a few technical things I've \"\n",
            "         \"learned about it over the last 10 months. I'll mostly talk about \"\n",
            "         'what using a single-person server has been like for me, as well as a '\n",
            "         'couple of notes about the API, DMs and ActivityPub.\\n'\n",
            "         '\\n'\n",
            "         \"I might have made some mistakes, please let me know if I've gotten \"\n",
            "         'anything wrong!\\n'\n",
            "         '\\n'\n",
            "         \"### what's a mastodon instance?\\n\"\n",
            "         '\\n'\n",
            "         'First: Mastodon is a decentralized collection of independently run '\n",
            "         'servers instead of One Big Server. The software is [open '\n",
            "         'source](https://github.com/mastodon/mastodon).\\n'\n",
            "         '\\n'\n",
            "         'In general, if you have an account on one server (like '\n",
            "         '`ruby.social`), you **can** follow people on another server (like '\n",
            "         '`hachyderm.io`), and they can follow you.\\n'\n",
            "         '\\n'\n",
            "         'I\\'m going to use the terms \"Mastodon server\" and \"Mastodon '\n",
            "         'instance\" interchangeably in this post.\\n'\n",
            "         '\\n'\n",
            "         '### on choosing a Mastodon instance\\n'\n",
            "         '\\n'\n",
            "         'These were the things I was concerned about when choosing an '\n",
            "         'instance:\\n'\n",
            "         '\\n'\n",
            "         '  1. An instance name that I was comfortable being part of my online '\n",
            "         \"identity. For example, I probably wouldn't want to be \"\n",
            "         \"`@b0rk@infosec.exchange` because I'm not an infosec person.\\n\"\n",
            "         \"  2. The server's stability. Most servers are volunteer-run, and \"\n",
            "         'volunteer moderation work can be exhausting - will the server really '\n",
            "         'be around in a few years? For example '\n",
            "         '[mastodon.technology](https://ashfurrow.com/blog/mastodon-technology-shutdown/) '\n",
            "         'and mastodon.lol shut down.\\n'\n",
            "         \"  3. The admins' moderation policies.\\n\"\n",
            "         \"  4. That server's general reputation with other servers. I started \"\n",
            "         'out on `mastodon.social`, but some servers choose to block or limit '\n",
            "         'mastodon.social for various reasons\\n'\n",
            "         '  5. The community: every Mastodon instance has a local timeline '\n",
            "         'with all posts from users on that instance, would I be interested in '\n",
            "         'reading the local timeline?\\n'\n",
            "         '  6. Whether my account would be a burden for the admin of that '\n",
            "         'server (since I have a lot of followers)\\n'\n",
            "         '\\n'\n",
            "         '\\n'\n",
            "         '\\n'\n",
            "         'In the end, I chose to run my own mastodon server because it seemed '\n",
            "         \"simplest - I could pick a domain I liked, and I knew I'd definitely \"\n",
            "         \"agree with the moderation decisions because I'd be in charge.\\n\"\n",
            "         '\\n'\n",
            "         \"I'm not going to give server recommendations here, but here's a list \"\n",
            "         'of the [top 200 most common servers people who follow me '\n",
            "         'use](https://gist.github.com/jvns/5eb0a58319b93049a8c014433766edd3).\\n'\n",
            "         '\\n'\n",
            "         '### using your own domain\\n'\n",
            "         '\\n'\n",
            "         'One big thing I wondered was - can I use my own domain (and have the '\n",
            "         \"username `@b0rk@jvns.ca` or something) but be on someone else's \"\n",
            "         'Mastodon server?\\n'\n",
            "         '\\n'\n",
            "         'The answer to this seems to be basically \"no\": if you want to use '\n",
            "         'your own domain on Mastodon, you need to run your own server. (you '\n",
            "         'can [kind of do '\n",
            "         'this](https://blog.maartenballiauw.be/post/2022/11/05/mastodon-own-donain-without-hosting-server.html), '\n",
            "         \"but it's more like an alias or redirect - if I used that method to \"\n",
            "         'direct `b0rk@jvns.ca` to `b0rk@mastodon.social`, my posts would '\n",
            "         'still show up as being from `b0rk@mastodon.social`)\\n'\n",
            "         '\\n'\n",
            "         \"There's also other ActivityPub software \"\n",
            "         '([Takah\u0113](https://jointakahe.org/)) that supports people bringing '\n",
            "         'their own domain in a first-class way.\\n'\n",
            "         '\\n'\n",
            "         '### notes on having my own server\\n'\n",
            "         '\\n'\n",
            "         'I really wanted to have a way to use my own domain name for '\n",
            "         'identity, but to share server hosting costs with other people. This '\n",
            "         \"isn't possible on Mastodon right now, so I decided to set up my own \"\n",
            "         'server instead.\\n'\n",
            "         '\\n'\n",
            "         'I chose to run a Mastodon server (instead of some other ActivityPub '\n",
            "         'implementation) because Mastodon is the most popular one. Good '\n",
            "         'managed Mastodon hosting is readily available, there are tons of '\n",
            "         'options for client apps, and I know for sure that my server will '\n",
            "         \"work well with other people's servers.\\n\"\n",
            "         '\\n'\n",
            "         'I use [masto.host](https://masto.host/) for Mastodon hosting, and '\n",
            "         \"it's been great so far. I have nothing interesting to say about what \"\n",
            "         \"it's like to operate a Mastodon instance because I know literally \"\n",
            "         'nothing about it. Masto.host handles all of the server '\n",
            "         'administration and Mastodon updates, and I never think about it at '\n",
            "         'all.\\n'\n",
            "         '\\n'\n",
            "         'Right now I\\'m on their $19/month (\"Star\") plan, but it\\'s possible '\n",
            "         'I could use a smaller plan with no problems. Right now their '\n",
            "         'cheapest plan is $6/month and I expect that would be fine for '\n",
            "         'someone with a smaller account.\\n'\n",
            "         '\\n'\n",
            "         'Some things I was worried about when embarking on my own Mastodon '\n",
            "         'server:\\n'\n",
            "         '\\n'\n",
            "         '  * I wanted to run the server at `social.jvns.ca`, but I wanted my '\n",
            "         'username to be `b0rk@jvns.ca` instead of `b0rk@social.jvns.ca`. To '\n",
            "         'get this to work I followed these [Setting up a personal fediverse '\n",
            "         'ID](https://jacobian.org/til/my-mastodon-instance/) directions from '\n",
            "         \"Jacob Kaplan-Moss and it's been fine.\\n\"\n",
            "         '  * The administration burden of running my own server. I imported a '\n",
            "         \"small list of servers to block/defederate from but didn't do \"\n",
            "         \"anything else. That's been fine.\\n\"\n",
            "         \"  * Reply and profile visibility. This has been annoying and we'll \"\n",
            "         'talk about it next\\n'\n",
            "         '\\n'\n",
            "         '\\n'\n",
            "         '\\n'\n",
            "         '### downsides to being on a single-person server\\n'\n",
            "         '\\n'\n",
            "         'Being on a 1-person server has some significant downsides. To '\n",
            "         'understand why, you need to understand a little about how Mastodon '\n",
            "         'works.\\n'\n",
            "         '\\n'\n",
            "         'Every Mastodon server has a database of posts. Servers only have '\n",
            "         'posts that they were explicitly sent by another server in their '\n",
            "         'database.\\n'\n",
            "         '\\n'\n",
            "         'Some reasons that servers might receive posts:\\n'\n",
            "         '\\n'\n",
            "         '  * someone on the server follows a user\\n'\n",
            "         '  * a post mentions someone on the server\\n'\n",
            "         '\\n'\n",
            "         '\\n'\n",
            "         '\\n'\n",
            "         'As a 1-person server, my server does not receive that many posts! I '\n",
            "         'only get posts from people I follow or posts that explicitly mention '\n",
            "         'me in some way.\\n'\n",
            "         '\\n'\n",
            "         'The causes several problems:\\n'\n",
            "         '\\n'\n",
            "         \"  1. when I visit someone's profile on Mastodon who I don't already \"\n",
            "         \"follow, my server will not fetch the profile's content (it'll fetch \"\n",
            "         'their profile picture, description, and pinned posts, but not any of '\n",
            "         \"their post history). So their profile appears as if they've never \"\n",
            "         'posted anything\\n'\n",
            "         '  2. bad reply visibility: when I look at the replies to somebody '\n",
            "         \"else's post (even if I follow them!), I don't see all of the \"\n",
            "         'replies, only the ones which have made it to my server. If you want '\n",
            "         'to understand the exact rules about who can see which replies (which '\n",
            "         \"are quite complicated!), [here's a great deep \"\n",
            "         'dive](https://seb.jambor.dev/posts/understanding-activitypub-part-3-the-state-of-mastodon/) '\n",
            "         \"by Sebastian Jambor. I think it's possible to end up in a state \"\n",
            "         'where no one person can see all of the replies, including the '\n",
            "         'original poster.\\n'\n",
            "         '  3. favourite and boost accounts are inaccurate - usually posts '\n",
            "         'show up having at most 1 or 2 favourites / boosts, even if the post '\n",
            "         'was actually favourite or boosted hundreds of times. I think this is '\n",
            "         'because it only counts favourites/boosts from people I follow.\\n'\n",
            "         '\\n'\n",
            "         '\\n'\n",
            "         '\\n'\n",
            "         'All of these things will happen to users of any small Mastodon '\n",
            "         'server, not just 1-person servers.\\n'\n",
            "         '\\n'\n",
            "         '### bad reply visibility makes conversations harder\\n'\n",
            "         '\\n'\n",
            "         \"A lot of people are on smaller servers, so when they're \"\n",
            "         \"participating in a conversation, they can't see all the replies to \"\n",
            "         'the post.\\n'\n",
            "         '\\n'\n",
            "         'This means that replies can get pretty repetitive because people '\n",
            "         \"literally cannot see each other's replies. This is especially \"\n",
            "         'annoying for posts that are popular or controversial, because the '\n",
            "         'person who made the post has to keep reading similar replies over '\n",
            "         \"and over again by people who think they're making the point for the \"\n",
            "         'first time.\\n'\n",
            "         '\\n'\n",
            "         'To get around this (as a reader), you can click \"open link to post\" '\n",
            "         'or something in your Mastodon client, which will open up the page on '\n",
            "         \"the poster's server where you can read all of the replies. It's \"\n",
            "         'pretty annoying though.\\n'\n",
            "         '\\n'\n",
            "         \"As a poster, I've tried to reduce repetitiveness in replies by:\\n\"\n",
            "         '\\n'\n",
            "         '  * putting requests in my posts like \"(no need to reply if you '\n",
            "         'don\u2019t remember, or if you\u2019ve been using the command line comfortably '\n",
            "         'for 15 years \u2014 this question isn\u2019t for you :) )\"\\n'\n",
            "         '  * occasionally editing my posts to include very common replies\\n'\n",
            "         '  * very occasionally deleting the post if it gets too out of hand\\n'\n",
            "         '\\n'\n",
            "         '\\n'\n",
            "         '\\n'\n",
            "         'The Mastodon devs are extremely aware of these issues, there are a '\n",
            "         'bunch of github issues about them:\\n'\n",
            "         '\\n'\n",
            "         '  * [backfill statuses when first '\n",
            "         'subscribed](https://github.com/mastodon/mastodon/issues/34)\\n'\n",
            "         '  * [fetch whole conversation '\n",
            "         'threads](https://github.com/mastodon/mastodon/issues/9409)\\n'\n",
            "         '\\n'\n",
            "         '\\n'\n",
            "         '\\n'\n",
            "         'My guess is that there are technical reasons these features are '\n",
            "         'difficult to add because those issues have been open for 5-7 years.\\n'\n",
            "         '\\n'\n",
            "         'The Mastodon devs have said that they plan to improve reply '\n",
            "         'fetching, but that it requires a significant amount of work.\\n'\n",
            "         '\\n'\n",
            "         '### some visibility workarounds\\n'\n",
            "         '\\n'\n",
            "         'Some people have built workarounds for fetching profiles / replies.\\n'\n",
            "         '\\n'\n",
            "         '  * [Fedifetcher](https://blog.thms.uk/fedifetcher)\\n'\n",
            "         '  * [combine.social](https://combine.social/)\\n'\n",
            "         '\\n'\n",
            "         '\\n'\n",
            "         '\\n'\n",
            "         'Also, there are a couple of Mastodon clients which will proactively '\n",
            "         'fetch replies. For iOS:\\n'\n",
            "         '\\n'\n",
            "         '  * Mammoth does it automatically\\n'\n",
            "         '  * Mona will fetch posts if I click \"load from remote server\" '\n",
            "         'manually\\n'\n",
            "         '\\n'\n",
            "         '\\n'\n",
            "         '\\n'\n",
            "         \"I haven't tried those yet though.\\n\"\n",
            "         '\\n'\n",
            "         '### other downsides of running your own server: discovery is much '\n",
            "         'harder\\n'\n",
            "         '\\n'\n",
            "         'Mastodon instances have a \"local timeline\" where you can see '\n",
            "         'everything other people on the server are posting, and a \"federated '\n",
            "         'timeline\" which shows sort of a combined feed from everyone followed '\n",
            "         'by anyone on the server. This means that you can see trending posts '\n",
            "         \"and get an idea of what's going on and find people to follow. You \"\n",
            "         \"don't get that if you're on a 1-person server - it's just me talking \"\n",
            "         'to myself! (plus occasional interjections from [my reruns '\n",
            "         'bot](https://social.jvns.ca/@b0rk_reruns)).\\n'\n",
            "         '\\n'\n",
            "         'Some workarounds people mentioned for this:\\n'\n",
            "         '\\n'\n",
            "         '  * you can populate your federated timeline with posts from another '\n",
            "         \"instance by using a **relay**. I haven't done this but someone else \"\n",
            "         'said they use [FediBuzz](https://relay.fedi.buzz) and I might try it '\n",
            "         'out.\\n'\n",
            "         '  * some mastodon clients (like apparently Moshidon on Android) let '\n",
            "         'you follow other instances\\n'\n",
            "         '\\n'\n",
            "         '\\n'\n",
            "         '\\n'\n",
            "         'If anyone else on small servers has suggestions for how to make '\n",
            "         \"discovery easier I'd love to hear them.\\n\"\n",
            "         '\\n'\n",
            "         '### account migration\\n'\n",
            "         '\\n'\n",
            "         'When I moved to my own server from `mastodon.social`, I needed to '\n",
            "         \"run an account migration to move over my followers. First, here's \"\n",
            "         'how migration works:\\n'\n",
            "         '\\n'\n",
            "         '  1. Account migration **does not** move over your posts. All of my '\n",
            "         'posts stayed on my old account. This is part of why I moved to '\n",
            "         \"running my own server - I didn't want to ever lose my posts a second \"\n",
            "         'time.\\n'\n",
            "         '  2. Account migration **does not** move over the list of people you '\n",
            "         'follow/mute/block. But you can import/export that list in your '\n",
            "         \"Mastodon settings so it's not a big deal. If you follow private \"\n",
            "         \"accounts they'll have to re-approve your follow request.\\n\"\n",
            "         '  3. Account migration **does** move over your followers\\n'\n",
            "         '\\n'\n",
            "         '\\n'\n",
            "         '\\n'\n",
            "         \"The follower move was the part I was most worried about. Here's how \"\n",
            "         'it turned out:\\n'\n",
            "         '\\n'\n",
            "         '  * over ~24 hours, most of my followers moved to the new account\\n'\n",
            "         '  * one or two servers did not get the message about the account '\n",
            "         'migration for some reason, so about 2000 followers were \"stuck\" and '\n",
            "         \"didn't migrate. I fixed this by waiting 30 days and re-running the \"\n",
            "         'account migration, which moved over most of the remaining followers. '\n",
            "         \"There's also a [tootctl \"\n",
            "         'command](https://github.com/mastodon/mastodon/issues/22281) that the '\n",
            "         'admin of the **old instance** can run to retry the migration\\n'\n",
            "         '  * about 200 of my followers never migrated over, I think because '\n",
            "         \"they're using ActivityPub software other than Mastodon which doesn't \"\n",
            "         'support account migration. You can see the [old account '\n",
            "         'here](https://mastodon.social/@b0rk)\\n'\n",
            "         '\\n'\n",
            "         '\\n'\n",
            "         '\\n'\n",
            "         '### using the Mastodon API is great\\n'\n",
            "         '\\n'\n",
            "         \"One thing I love about Mastodon is - it has an API that's MUCH \"\n",
            "         \"easier to use than Twitter's API. I've always been frustrated with \"\n",
            "         'how difficult it is to navigate large Twitter threads, so I made a '\n",
            "         'small [mastodon thread view](https://mastodon-thread-view.jvns.ca/) '\n",
            "         \"website that lets you log into your Mastodon account. It's pretty \"\n",
            "         \"janky and it's really only made for me to use, but I've really \"\n",
            "         'appreciated the ability to write my own janky software to improve my '\n",
            "         'Mastodon experience.\\n'\n",
            "         '\\n'\n",
            "         'Some notes on the Mastodon API:\\n'\n",
            "         '\\n'\n",
            "         '  * You can build Mastodon client software totally on the frontend '\n",
            "         'in Javascript, which is really cool.\\n'\n",
            "         \"  * I couldn't find a vanilla Javascript Mastodon client, so I \"\n",
            "         '[wrote a crappy '\n",
            "         'one](https://github.com/jvns/mastodon-threaded-replies/blob/main/mastodon.js)\\n'\n",
            "         '  * [API docs are '\n",
            "         'here](https://docs.joinmastodon.org/client/intro/)\\n'\n",
            "         \"  * Here's a [tiny Python script I used to list all my Mastodon \"\n",
            "         'followers](https://gist.github.com/jvns/0fe51383cbbb63e94177c60f1e0371c6), '\n",
            "         'which also serves as a simple example of how easy using the API is.\\n'\n",
            "         '  * The best documentation I could find for which OAuth scopes '\n",
            "         'correspond to which API endpoints is [this github '\n",
            "         'issue](https://github.com/mastodon/mastodon/pull/7929)\\n'\n",
            "         '\\n'\n",
            "         '\\n'\n",
            "         '\\n'\n",
            "         \"Next I'll talk about a few general things about Mastodon that \"\n",
            "         \"confused or surprised me that aren't specific to being on a \"\n",
            "         'single-person instance.\\n'\n",
            "         '\\n'\n",
            "         '### DMs are weird\\n'\n",
            "         '\\n'\n",
            "         'The way Mastodon DMs work surprised me in a few ways:\\n'\n",
            "         '\\n'\n",
            "         '  * Technically DMs are just regular posts with visibility limited '\n",
            "         'to the people mentioned in the post. This means that if you '\n",
            "         'accidentally mention someone in a DM (\"@x is such a jerk\"), it\\'s '\n",
            "         'possible to accidentally send the message to them\\n'\n",
            "         \"  * DMs aren't very private: the admins on the sending and receiving \"\n",
            "         'servers can technically read your DMs if they have access to the '\n",
            "         \"database. So they're not appropriate for sensitive information.\\n\"\n",
            "         \"  * Turning off DMs is weird. Personally I don't like receiving DMs \"\n",
            "         \"from strangers - it's too much to keep track of and I'd prefer that \"\n",
            "         \"people email me. On Twitter, I can just turn it off and people won't \"\n",
            "         'see an option to DM me. But on Mastodon, when I turn off '\n",
            "         'notifications for DMs, anyone can still \"DM\" me, but the message '\n",
            "         \"will go into a black hole and I'll never see it. I put a note in my \"\n",
            "         'profile about this.\\n'\n",
            "         '\\n'\n",
            "         '\\n'\n",
            "         '\\n'\n",
            "         '### defederation and limiting\\n'\n",
            "         '\\n'\n",
            "         'There are a couple of different ways for a server to block another '\n",
            "         \"Mastodon server. I haven't really had to do this much but people \"\n",
            "         'talk about it a lot and I was confused about the difference, so:\\n'\n",
            "         '\\n'\n",
            "         '  * A server can **defederate** from another server (this seems to '\n",
            "         'be called '\n",
            "         '[suspend](https://docs.joinmastodon.org/admin/moderation/#suspend-server) '\n",
            "         'in the Mastodon docs). This means that nobody on a server can follow '\n",
            "         'someone from the other server.\\n'\n",
            "         '  * A server can '\n",
            "         '**[limit](https://docs.joinmastodon.org/admin/moderation/#limit-user)** '\n",
            "         '(also known as \"silence\") a user or server. This means that content '\n",
            "         \"from that user is only visible to that user's followers - people \"\n",
            "         'can\\'t discover the user through retweets (aka \"boosts\" on '\n",
            "         'Mastodon).\\n'\n",
            "         '\\n'\n",
            "         '\\n'\n",
            "         '\\n'\n",
            "         \"One thing that wasn't obvious to me is that who servers defederate / \"\n",
            "         \"limit is sometimes hidden, so it's hard to suss out what's going on \"\n",
            "         \"if you're considering joining a server, or trying to understand why \"\n",
            "         \"you can't see certain posts.\\n\"\n",
            "         '\\n'\n",
            "         \"### there's no search for posts\\n\"\n",
            "         '\\n'\n",
            "         \"There's no way to search past posts you've read. If I see something \"\n",
            "         'interesting on my timeline and want to find it later, I usually '\n",
            "         \"can't. (Mastodon has a [Elasticsearch-based search \"\n",
            "         'feature](https://docs.joinmastodon.org/admin/optional/elasticsearch/), '\n",
            "         'but it only allows you to search your own posts, your mentions, your '\n",
            "         'favourites, and your bookmarks)\\n'\n",
            "         '\\n'\n",
            "         'These limitations on search are intentional (and a very common '\n",
            "         \"source of arguments) - it's a privacy / safety issue. Here's a \"\n",
            "         '[summary from Tim '\n",
            "         'Bray](https://www.tbray.org/ongoing/When/202x/2022/12/30/Mastodon-Privacy-and-Search) '\n",
            "         'with lots of links.\\n'\n",
            "         '\\n'\n",
            "         'It would be personally convenient for me to be able to search more '\n",
            "         \"easily but I respect folks' safety concerns so I'll leave it at \"\n",
            "         'that.\\n'\n",
            "         '\\n'\n",
            "         'My understanding is that the Mastodon devs are planning to add '\n",
            "         'opt-in search for public posts relatively soon.\\n'\n",
            "         '\\n'\n",
            "         '### other ActivityPub software\\n'\n",
            "         '\\n'\n",
            "         \"We've been talking about Mastodon a lot, but not everyone who I \"\n",
            "         'follow is using Mastodon: Mastodon uses a protocol called '\n",
            "         '[ActivityPub](https://activitypub.rocks/) to distribute messages.\\n'\n",
            "         '\\n'\n",
            "         'Here are some examples of other software I see people talking about, '\n",
            "         'in no particular order:\\n'\n",
            "         '\\n'\n",
            "         '  * [Calckey](https://calckey.org/)\\n'\n",
            "         '  * [Akkoma](https://akkoma.social/)\\n'\n",
            "         '  * [gotosocial](https://gotosocial.org/)\\n'\n",
            "         '  * [Takah\u0113](https://jointakahe.org/)\\n'\n",
            "         '  * [writefreely](https://writefreely.org/)\\n'\n",
            "         '  * [pixelfed](https://pixelfed.org/) (for images)\\n'\n",
            "         '\\n'\n",
            "         '\\n'\n",
            "         '\\n'\n",
            "         \"I'm probably missing a bunch of important ones.\\n\"\n",
            "         '\\n'\n",
            "         \"### what's the difference between Mastodon and other ActivityPub \"\n",
            "         'software?\\n'\n",
            "         '\\n'\n",
            "         \"This confused me for a while, and I'm still not super clear on how \"\n",
            "         \"ActivityPub works. What I've understood is:\\n\"\n",
            "         '\\n'\n",
            "         '  * ActivityPub is a protocol (you can explore how it works with '\n",
            "         \"blinry's nice [JSON \"\n",
            "         'explorer](https://json.blinry.org/#https://chaos.social/users/blinry))\\n'\n",
            "         '  * Mastodon **servers** communicate with each other (and with other '\n",
            "         'ActivityPub servers) using ActivityPub\\n'\n",
            "         '  * Mastodon **clients** communicate with their server using the '\n",
            "         'Mastodon API, which is its own thing\\n'\n",
            "         \"  * There's also software like \"\n",
            "         '[GoToSocial](https://github.com/superseriousbusiness/gotosocial) '\n",
            "         'that aims to be compatible with the Mastodon API, so that you can '\n",
            "         'use a Mastodon client with it\\n'\n",
            "         '\\n'\n",
            "         '\\n'\n",
            "         '\\n'\n",
            "         '### more mastodon resources\\n'\n",
            "         '\\n'\n",
            "         '  * [Fedi.Tips](https://fedi.tips/) seems to be a great '\n",
            "         'introduction\\n'\n",
            "         '  * I think you can still use '\n",
            "         '[FediFinder](https://fedifinder.glitch.me/) to find folks you '\n",
            "         'followed on Twitter on Mastodon\\n'\n",
            "         \"  * I've been using the [Ivory](https://tapbots.com/ivory/) client \"\n",
            "         'on iOS, but there are lots of great clients. '\n",
            "         '[Elk](https://elk.zone/) is an alternative web client that folks '\n",
            "         'seem to like.\\n'\n",
            "         '\\n'\n",
            "         '\\n'\n",
            "         '\\n'\n",
            "         \"I haven't written here about what Mastodon culture is like because \"\n",
            "         'other people have done a much better job of talking about it than '\n",
            "         \"me, but of course it's is the biggest thing that affects your \"\n",
            "         'experience and it was the thing that took me longest to get a handle '\n",
            "         'on. A few links:\\n'\n",
            "         '\\n'\n",
            "         '  * Erin Kissane on [frictions people run into when joining '\n",
            "         'Mastodon](https://erinkissane.com/mastodon-is-easy-and-fun-except-when-it-isnt)\\n'\n",
            "         '  * Kyle Kingsbury wrote some great [moderation guidelines for '\n",
            "         'woof.group](https://blog.woof.group/mods/) (note: woof.group is a '\n",
            "         'LGBTQ+ leather instance, be prepared to see lots of NSFW posts if '\n",
            "         'you visit it)\\n'\n",
            "         '  * Mekka Okereke writes [lots of great posts about issues Black '\n",
            "         'people encounter on '\n",
            "         'Mastodon](https://hachyderm.io/@mekkaokereke/110273797004251326) '\n",
            "         \"(though they're all on Mastodon so it's a little hard to navigate)\\n\"\n",
            "         '\\n'\n",
            "         '\\n'\n",
            "         '\\n'\n",
            "         \"### that's all!\\n\"\n",
            "         '\\n'\n",
            "         \"I don't regret setting up a single-user server - even though it's \"\n",
            "         \"inconvenient, it's important to me to have control over my social \"\n",
            "         'media. I think \"have control over my social media\" is more important '\n",
            "         'to me than it is to most other people though, because I use '\n",
            "         'Twitter/Mastodon a lot for work.\\n'\n",
            "         '\\n'\n",
            "         \"I am happy that I didn't _start out_ on a single-user server though \"\n",
            "         '- I think it would have made getting started on Mastodon a lot more '\n",
            "         'difficult.\\n'\n",
            "         '\\n'\n",
            "         \"Mastodon is pretty rough around the edges sometimes but I'm able to \"\n",
            "         'have more interesting conversations about computers there than I am '\n",
            "         \"on Twitter (or Bluesky), so that's where I'm staying for now.\\n\",\n",
            " 'title': 'Notes on using a single-person Mastodon server',\n",
            " 'updated': '2023-08-11T08:13:16+00:00'}\n"
          ]
        }
      ],
      "source": [
        "print(\"Example blogpost:\")\n",
        "pprint.pprint(blogposts[0])"
      ]
    },
    {
      "cell_type": "markdown",
      "id": "6b4f10b1-759c-459b-bece-1495c099cf62",
      "metadata": {},
      "source": [
        "### Create a service context\n",
        "- No OpenAI API calls\n",
        "- No large local LLM\n",
        "- Just use the smallest sentence-transformers embeddings model"
      ]
    },
    {
      "cell_type": "markdown",
      "id": "c0bfd191-3038-4ad7-a073-58b93e94f8d1",
      "metadata": {},
      "source": [
        "- all-minilm-l6-v2 has a maximum size of 256 tokens\n",
        "- source: https://www.sbert.net/docs/pretrained_models.html#model-overview"
      ]
    },
    {
      "cell_type": "code",
      "execution_count": null,
      "id": "85531cae-9ec3-47f3-b4c1-e9df4cea39f4",
      "metadata": {},
      "outputs": [
        {
          "name": "stdout",
          "output_type": "stream",
          "text": [
            "LLM is explicitly disabled. Using MockLLM.\n"
          ]
        }
      ],
      "source": [
        "service_context = llama_index.ServiceContext.from_defaults(\n",
        "  embed_model=\"local:sentence-transformers/all-minilm-l6-v2\", chunk_size=256, llm=None\n",
        ")"
      ]
    },
    {
      "cell_type": "markdown",
      "id": "0fb5492d-e290-461a-a3f4-55f23818fee1",
      "metadata": {},
      "source": [
        "### Create documents from the blogposts"
      ]
    },
    {
      "cell_type": "code",
      "execution_count": null,
      "id": "a03e2bf3-5d46-40d1-9ba5-c6d8dda9d0c0",
      "metadata": {},
      "outputs": [],
      "source": [
        "documents = [llama_index.Document(text=blogpost['text']) for blogpost in blogposts]"
      ]
    },
    {
      "cell_type": "code",
      "execution_count": null,
      "id": "e829de61-44ef-4701-b01d-e24bb34b6d78",
      "metadata": {},
      "outputs": [
        {
          "data": {
            "text/plain": [
              "20"
            ]
          },
          "execution_count": null,
          "metadata": {},
          "output_type": "execute_result"
        }
      ],
      "source": [
        "len(documents)"
      ]
    },
    {
      "cell_type": "code",
      "execution_count": null,
      "id": "91772358-47dc-4e6a-861a-aa9e295805ca",
      "metadata": {},
      "outputs": [
        {
          "name": "stdout",
          "output_type": "stream",
          "text": [
            "Example document:\n"
          ]
        },
        {
          "data": {
            "text/plain": [
              "Document(id_='2f48c07d-395c-46a7-8ceb-2e3eda7e8a99', embedding=None, metadata={}, excluded_embed_metadata_keys=[], excluded_llm_metadata_keys=[], relationships={}, hash='74bb2056380d3e3871dfa6ae4f2b4d9af8e908962b533e58819a94d497caca5b', text='I started using Mastodon back in November, and it\\'s the Twitter alternative where I\\'ve been spending most of my time recently, mostly because the Fediverse is where a lot of the Linux nerds seem to be right now.\\n\\nI\\'ve found Mastodon quite a bit more confusing than Twitter because it\\'s a distributed system, so here are a few technical things I\\'ve learned about it over the last 10 months. I\\'ll mostly talk about what using a single-person server has been like for me, as well as a couple of notes about the API, DMs and ActivityPub.\\n\\nI might have made some mistakes, please let me know if I\\'ve gotten anything wrong!\\n\\n### what\\'s a mastodon instance?\\n\\nFirst: Mastodon is a decentralized collection of independently run servers instead of One Big Server. The software is [open source](https://github.com/mastodon/mastodon).\\n\\nIn general, if you have an account on one server (like `ruby.social`), you **can** follow people on another server (like `hachyderm.io`), and they can follow you.\\n\\nI\\'m going to use the terms \"Mastodon server\" and \"Mastodon instance\" interchangeably in this post.\\n\\n### on choosing a Mastodon instance\\n\\nThese were the things I was concerned about when choosing an instance:\\n\\n  1. An instance name that I was comfortable being part of my online identity. For example, I probably wouldn\\'t want to be `@b0rk@infosec.exchange` because I\\'m not an infosec person.\\n  2. The server\\'s stability. Most servers are volunteer-run, and volunteer moderation work can be exhausting - will the server really be around in a few years? For example [mastodon.technology](https://ashfurrow.com/blog/mastodon-technology-shutdown/) and mastodon.lol shut down.\\n  3. The admins\\' moderation policies.\\n  4. That server\\'s general reputation with other servers. I started out on `mastodon.social`, but some servers choose to block or limit mastodon.social for various reasons\\n  5. The community: every Mastodon instance has a local timeline with all posts from users on that instance, would I be interested in reading the local timeline?\\n  6. Whether my account would be a burden for the admin of that server (since I have a lot of followers)\\n\\n\\n\\nIn the end, I chose to run my own mastodon server because it seemed simplest - I could pick a domain I liked, and I knew I\\'d definitely agree with the moderation decisions because I\\'d be in charge.\\n\\nI\\'m not going to give server recommendations here, but here\\'s a list of the [top 200 most common servers people who follow me use](https://gist.github.com/jvns/5eb0a58319b93049a8c014433766edd3).\\n\\n### using your own domain\\n\\nOne big thing I wondered was - can I use my own domain (and have the username `@b0rk@jvns.ca` or something) but be on someone else\\'s Mastodon server?\\n\\nThe answer to this seems to be basically \"no\": if you want to use your own domain on Mastodon, you need to run your own server. (you can [kind of do this](https://blog.maartenballiauw.be/post/2022/11/05/mastodon-own-donain-without-hosting-server.html), but it\\'s more like an alias or redirect - if I used that method to direct `b0rk@jvns.ca` to `b0rk@mastodon.social`, my posts would still show up as being from `b0rk@mastodon.social`)\\n\\nThere\\'s also other ActivityPub software ([Takah\u0113](https://jointakahe.org/)) that supports people bringing their own domain in a first-class way.\\n\\n### notes on having my own server\\n\\nI really wanted to have a way to use my own domain name for identity, but to share server hosting costs with other people. This isn\\'t possible on Mastodon right now, so I decided to set up my own server instead.\\n\\nI chose to run a Mastodon server (instead of some other ActivityPub implementation) because Mastodon is the most popular one. Good managed Mastodon hosting is readily available, there are tons of options for client apps, and I know for sure that my server will work well with other people\\'s servers.\\n\\nI use [masto.host](https://masto.host/) for Mastodon hosting, and it\\'s been great so far. I have nothing interesting to say about what it\\'s like to operate a Mastodon instance because I know literally nothing about it. Masto.host handles all of the server administration and Mastodon updates, and I never think about it at all.\\n\\nRight now I\\'m on their $19/month (\"Star\") plan, but it\\'s possible I could use a smaller plan with no problems. Right now their cheapest plan is $6/month and I expect that would be fine for someone with a smaller account.\\n\\nSome things I was worried about when embarking on my own Mastodon server:\\n\\n  * I wanted to run the server at `social.jvns.ca`, but I wanted my username to be `b0rk@jvns.ca` instead of `b0rk@social.jvns.ca`. To get this to work I followed these [Setting up a personal fediverse ID](https://jacobian.org/til/my-mastodon-instance/) directions from Jacob Kaplan-Moss and it\\'s been fine.\\n  * The administration burden of running my own server. I imported a small list of servers to block/defederate from but didn\\'t do anything else. That\\'s been fine.\\n  * Reply and profile visibility. This has been annoying and we\\'ll talk about it next\\n\\n\\n\\n### downsides to being on a single-person server\\n\\nBeing on a 1-person server has some significant downsides. To understand why, you need to understand a little about how Mastodon works.\\n\\nEvery Mastodon server has a database of posts. Servers only have posts that they were explicitly sent by another server in their database.\\n\\nSome reasons that servers might receive posts:\\n\\n  * someone on the server follows a user\\n  * a post mentions someone on the server\\n\\n\\n\\nAs a 1-person server, my server does not receive that many posts! I only get posts from people I follow or posts that explicitly mention me in some way.\\n\\nThe causes several problems:\\n\\n  1. when I visit someone\\'s profile on Mastodon who I don\\'t already follow, my server will not fetch the profile\\'s content (it\\'ll fetch their profile picture, description, and pinned posts, but not any of their post history). So their profile appears as if they\\'ve never posted anything\\n  2. bad reply visibility: when I look at the replies to somebody else\\'s post (even if I follow them!), I don\\'t see all of the replies, only the ones which have made it to my server. If you want to understand the exact rules about who can see which replies (which are quite complicated!), [here\\'s a great deep dive](https://seb.jambor.dev/posts/understanding-activitypub-part-3-the-state-of-mastodon/) by Sebastian Jambor. I think it\\'s possible to end up in a state where no one person can see all of the replies, including the original poster.\\n  3. favourite and boost accounts are inaccurate - usually posts show up having at most 1 or 2 favourites / boosts, even if the post was actually favourite or boosted hundreds of times. I think this is because it only counts favourites/boosts from people I follow.\\n\\n\\n\\nAll of these things will happen to users of any small Mastodon server, not just 1-person servers.\\n\\n### bad reply visibility makes conversations harder\\n\\nA lot of people are on smaller servers, so when they\\'re participating in a conversation, they can\\'t see all the replies to the post.\\n\\nThis means that replies can get pretty repetitive because people literally cannot see each other\\'s replies. This is especially annoying for posts that are popular or controversial, because the person who made the post has to keep reading similar replies over and over again by people who think they\\'re making the point for the first time.\\n\\nTo get around this (as a reader), you can click \"open link to post\" or something in your Mastodon client, which will open up the page on the poster\\'s server where you can read all of the replies. It\\'s pretty annoying though.\\n\\nAs a poster, I\\'ve tried to reduce repetitiveness in replies by:\\n\\n  * putting requests in my posts like \"(no need to reply if you don\u2019t remember, or if you\u2019ve been using the command line comfortably for 15 years \u2014 this question isn\u2019t for you :) )\"\\n  * occasionally editing my posts to include very common replies\\n  * very occasionally deleting the post if it gets too out of hand\\n\\n\\n\\nThe Mastodon devs are extremely aware of these issues, there are a bunch of github issues about them:\\n\\n  * [backfill statuses when first subscribed](https://github.com/mastodon/mastodon/issues/34)\\n  * [fetch whole conversation threads](https://github.com/mastodon/mastodon/issues/9409)\\n\\n\\n\\nMy guess is that there are technical reasons these features are difficult to add because those issues have been open for 5-7 years.\\n\\nThe Mastodon devs have said that they plan to improve reply fetching, but that it requires a significant amount of work.\\n\\n### some visibility workarounds\\n\\nSome people have built workarounds for fetching profiles / replies.\\n\\n  * [Fedifetcher](https://blog.thms.uk/fedifetcher)\\n  * [combine.social](https://combine.social/)\\n\\n\\n\\nAlso, there are a couple of Mastodon clients which will proactively fetch replies. For iOS:\\n\\n  * Mammoth does it automatically\\n  * Mona will fetch posts if I click \"load from remote server\" manually\\n\\n\\n\\nI haven\\'t tried those yet though.\\n\\n### other downsides of running your own server: discovery is much harder\\n\\nMastodon instances have a \"local timeline\" where you can see everything other people on the server are posting, and a \"federated timeline\" which shows sort of a combined feed from everyone followed by anyone on the server. This means that you can see trending posts and get an idea of what\\'s going on and find people to follow. You don\\'t get that if you\\'re on a 1-person server - it\\'s just me talking to myself! (plus occasional interjections from [my reruns bot](https://social.jvns.ca/@b0rk_reruns)).\\n\\nSome workarounds people mentioned for this:\\n\\n  * you can populate your federated timeline with posts from another instance by using a **relay**. I haven\\'t done this but someone else said they use [FediBuzz](https://relay.fedi.buzz) and I might try it out.\\n  * some mastodon clients (like apparently Moshidon on Android) let you follow other instances\\n\\n\\n\\nIf anyone else on small servers has suggestions for how to make discovery easier I\\'d love to hear them.\\n\\n### account migration\\n\\nWhen I moved to my own server from `mastodon.social`, I needed to run an account migration to move over my followers. First, here\\'s how migration works:\\n\\n  1. Account migration **does not** move over your posts. All of my posts stayed on my old account. This is part of why I moved to running my own server - I didn\\'t want to ever lose my posts a second time.\\n  2. Account migration **does not** move over the list of people you follow/mute/block. But you can import/export that list in your Mastodon settings so it\\'s not a big deal. If you follow private accounts they\\'ll have to re-approve your follow request.\\n  3. Account migration **does** move over your followers\\n\\n\\n\\nThe follower move was the part I was most worried about. Here\\'s how it turned out:\\n\\n  * over ~24 hours, most of my followers moved to the new account\\n  * one or two servers did not get the message about the account migration for some reason, so about 2000 followers were \"stuck\" and didn\\'t migrate. I fixed this by waiting 30 days and re-running the account migration, which moved over most of the remaining followers. There\\'s also a [tootctl command](https://github.com/mastodon/mastodon/issues/22281) that the admin of the **old instance** can run to retry the migration\\n  * about 200 of my followers never migrated over, I think because they\\'re using ActivityPub software other than Mastodon which doesn\\'t support account migration. You can see the [old account here](https://mastodon.social/@b0rk)\\n\\n\\n\\n### using the Mastodon API is great\\n\\nOne thing I love about Mastodon is - it has an API that\\'s MUCH easier to use than Twitter\\'s API. I\\'ve always been frustrated with how difficult it is to navigate large Twitter threads, so I made a small [mastodon thread view](https://mastodon-thread-view.jvns.ca/) website that lets you log into your Mastodon account. It\\'s pretty janky and it\\'s really only made for me to use, but I\\'ve really appreciated the ability to write my own janky software to improve my Mastodon experience.\\n\\nSome notes on the Mastodon API:\\n\\n  * You can build Mastodon client software totally on the frontend in Javascript, which is really cool.\\n  * I couldn\\'t find a vanilla Javascript Mastodon client, so I [wrote a crappy one](https://github.com/jvns/mastodon-threaded-replies/blob/main/mastodon.js)\\n  * [API docs are here](https://docs.joinmastodon.org/client/intro/)\\n  * Here\\'s a [tiny Python script I used to list all my Mastodon followers](https://gist.github.com/jvns/0fe51383cbbb63e94177c60f1e0371c6), which also serves as a simple example of how easy using the API is.\\n  * The best documentation I could find for which OAuth scopes correspond to which API endpoints is [this github issue](https://github.com/mastodon/mastodon/pull/7929)\\n\\n\\n\\nNext I\\'ll talk about a few general things about Mastodon that confused or surprised me that aren\\'t specific to being on a single-person instance.\\n\\n### DMs are weird\\n\\nThe way Mastodon DMs work surprised me in a few ways:\\n\\n  * Technically DMs are just regular posts with visibility limited to the people mentioned in the post. This means that if you accidentally mention someone in a DM (\"@x is such a jerk\"), it\\'s possible to accidentally send the message to them\\n  * DMs aren\\'t very private: the admins on the sending and receiving servers can technically read your DMs if they have access to the database. So they\\'re not appropriate for sensitive information.\\n  * Turning off DMs is weird. Personally I don\\'t like receiving DMs from strangers - it\\'s too much to keep track of and I\\'d prefer that people email me. On Twitter, I can just turn it off and people won\\'t see an option to DM me. But on Mastodon, when I turn off notifications for DMs, anyone can still \"DM\" me, but the message will go into a black hole and I\\'ll never see it. I put a note in my profile about this.\\n\\n\\n\\n### defederation and limiting\\n\\nThere are a couple of different ways for a server to block another Mastodon server. I haven\\'t really had to do this much but people talk about it a lot and I was confused about the difference, so:\\n\\n  * A server can **defederate** from another server (this seems to be called [suspend](https://docs.joinmastodon.org/admin/moderation/#suspend-server) in the Mastodon docs). This means that nobody on a server can follow someone from the other server.\\n  * A server can **[limit](https://docs.joinmastodon.org/admin/moderation/#limit-user)** (also known as \"silence\") a user or server. This means that content from that user is only visible to that user\\'s followers - people can\\'t discover the user through retweets (aka \"boosts\" on Mastodon).\\n\\n\\n\\nOne thing that wasn\\'t obvious to me is that who servers defederate / limit is sometimes hidden, so it\\'s hard to suss out what\\'s going on if you\\'re considering joining a server, or trying to understand why you can\\'t see certain posts.\\n\\n### there\\'s no search for posts\\n\\nThere\\'s no way to search past posts you\\'ve read. If I see something interesting on my timeline and want to find it later, I usually can\\'t. (Mastodon has a [Elasticsearch-based search feature](https://docs.joinmastodon.org/admin/optional/elasticsearch/), but it only allows you to search your own posts, your mentions, your favourites, and your bookmarks)\\n\\nThese limitations on search are intentional (and a very common source of arguments) - it\\'s a privacy / safety issue. Here\\'s a [summary from Tim Bray](https://www.tbray.org/ongoing/When/202x/2022/12/30/Mastodon-Privacy-and-Search) with lots of links.\\n\\nIt would be personally convenient for me to be able to search more easily but I respect folks\\' safety concerns so I\\'ll leave it at that.\\n\\nMy understanding is that the Mastodon devs are planning to add opt-in search for public posts relatively soon.\\n\\n### other ActivityPub software\\n\\nWe\\'ve been talking about Mastodon a lot, but not everyone who I follow is using Mastodon: Mastodon uses a protocol called [ActivityPub](https://activitypub.rocks/) to distribute messages.\\n\\nHere are some examples of other software I see people talking about, in no particular order:\\n\\n  * [Calckey](https://calckey.org/)\\n  * [Akkoma](https://akkoma.social/)\\n  * [gotosocial](https://gotosocial.org/)\\n  * [Takah\u0113](https://jointakahe.org/)\\n  * [writefreely](https://writefreely.org/)\\n  * [pixelfed](https://pixelfed.org/) (for images)\\n\\n\\n\\nI\\'m probably missing a bunch of important ones.\\n\\n### what\\'s the difference between Mastodon and other ActivityPub software?\\n\\nThis confused me for a while, and I\\'m still not super clear on how ActivityPub works. What I\\'ve understood is:\\n\\n  * ActivityPub is a protocol (you can explore how it works with blinry\\'s nice [JSON explorer](https://json.blinry.org/#https://chaos.social/users/blinry))\\n  * Mastodon **servers** communicate with each other (and with other ActivityPub servers) using ActivityPub\\n  * Mastodon **clients** communicate with their server using the Mastodon API, which is its own thing\\n  * There\\'s also software like [GoToSocial](https://github.com/superseriousbusiness/gotosocial) that aims to be compatible with the Mastodon API, so that you can use a Mastodon client with it\\n\\n\\n\\n### more mastodon resources\\n\\n  * [Fedi.Tips](https://fedi.tips/) seems to be a great introduction\\n  * I think you can still use [FediFinder](https://fedifinder.glitch.me/) to find folks you followed on Twitter on Mastodon\\n  * I\\'ve been using the [Ivory](https://tapbots.com/ivory/) client on iOS, but there are lots of great clients. [Elk](https://elk.zone/) is an alternative web client that folks seem to like.\\n\\n\\n\\nI haven\\'t written here about what Mastodon culture is like because other people have done a much better job of talking about it than me, but of course it\\'s is the biggest thing that affects your experience and it was the thing that took me longest to get a handle on. A few links:\\n\\n  * Erin Kissane on [frictions people run into when joining Mastodon](https://erinkissane.com/mastodon-is-easy-and-fun-except-when-it-isnt)\\n  * Kyle Kingsbury wrote some great [moderation guidelines for woof.group](https://blog.woof.group/mods/) (note: woof.group is a LGBTQ+ leather instance, be prepared to see lots of NSFW posts if you visit it)\\n  * Mekka Okereke writes [lots of great posts about issues Black people encounter on Mastodon](https://hachyderm.io/@mekkaokereke/110273797004251326) (though they\\'re all on Mastodon so it\\'s a little hard to navigate)\\n\\n\\n\\n### that\\'s all!\\n\\nI don\\'t regret setting up a single-user server - even though it\\'s inconvenient, it\\'s important to me to have control over my social media. I think \"have control over my social media\" is more important to me than it is to most other people though, because I use Twitter/Mastodon a lot for work.\\n\\nI am happy that I didn\\'t _start out_ on a single-user server though - I think it would have made getting started on Mastodon a lot more difficult.\\n\\nMastodon is pretty rough around the edges sometimes but I\\'m able to have more interesting conversations about computers there than I am on Twitter (or Bluesky), so that\\'s where I\\'m staying for now.\\n', start_char_idx=None, end_char_idx=None, text_template='{metadata_str}\\n\\n{content}', metadata_template='{key}: {value}', metadata_seperator='\\n')"
            ]
          },
          "execution_count": null,
          "metadata": {},
          "output_type": "execute_result"
        }
      ],
      "source": [
        "print(\"Example document:\")\n",
        "documents[0]"
      ]
    },
    {
      "cell_type": "markdown",
      "id": "9e8bd061-8ff4-4dd2-922c-117365fd8bdf",
      "metadata": {},
      "source": [
        "# Exercises"
      ]
    },
    {
      "cell_type": "markdown",
      "metadata": {
        "collapsed": true
      },
      "source": "### Create a vector index from `documents` (this could take a minute because we're processing lots of text)"
    },
    {
      "cell_type": "code",
      "execution_count": null,
      "metadata": {
        "collapsed": true
      },
      "outputs": [],
      "source": []
    },
    {
      "cell_type": "code",
      "execution_count": null,
      "metadata": {
        "collapsed": true
      },
      "outputs": [],
      "source": []
    },
    {
      "cell_type": "markdown",
      "metadata": {
        "collapsed": true
      },
      "source": "### Retrieve blogposts about DNS"
    },
    {
      "cell_type": "code",
      "execution_count": null,
      "metadata": {
        "collapsed": true
      },
      "outputs": [],
      "source": []
    },
    {
      "cell_type": "code",
      "execution_count": null,
      "metadata": {
        "collapsed": true
      },
      "outputs": [],
      "source": []
    },
    {
      "cell_type": "markdown",
      "metadata": {
        "collapsed": true
      },
      "source": "### It's really hard to figure out from which blogposts these results are! Create a set of Documents that has the blogpost title as the id."
    },
    {
      "cell_type": "code",
      "execution_count": null,
      "metadata": {
        "collapsed": true
      },
      "outputs": [],
      "source": []
    },
    {
      "cell_type": "code",
      "execution_count": null,
      "metadata": {
        "collapsed": true
      },
      "outputs": [],
      "source": []
    },
    {
      "cell_type": "markdown",
      "metadata": {
        "collapsed": true
      },
      "source": "### Build a vector index from these new documents"
    },
    {
      "cell_type": "code",
      "execution_count": null,
      "metadata": {
        "collapsed": true
      },
      "outputs": [],
      "source": []
    },
    {
      "cell_type": "code",
      "execution_count": null,
      "metadata": {
        "collapsed": true
      },
      "outputs": [],
      "source": []
    },
    {
      "cell_type": "markdown",
      "metadata": {
        "collapsed": true
      },
      "source": "### Retrieve blogposts about DNS using the new index. This time, use the id of the source node to check from which blogpost they originate."
    },
    {
      "cell_type": "code",
      "execution_count": null,
      "metadata": {
        "collapsed": true
      },
      "outputs": [],
      "source": []
    },
    {
      "cell_type": "code",
      "execution_count": null,
      "metadata": {
        "collapsed": true
      },
      "outputs": [],
      "source": []
    },
    {
      "cell_type": "markdown",
      "metadata": {
        "collapsed": true
      },
      "source": "### Store your index to disk"
    },
    {
      "cell_type": "code",
      "execution_count": null,
      "metadata": {
        "collapsed": true
      },
      "outputs": [],
      "source": []
    },
    {
      "cell_type": "code",
      "execution_count": null,
      "metadata": {
        "collapsed": true
      },
      "outputs": [],
      "source": []
    },
    {
      "cell_type": "markdown",
      "metadata": {
        "collapsed": true
      },
      "source": "### Load your index from disk in a new index variable. Hint: you need two ingredients: a storage context and a service context."
    },
    {
      "cell_type": "code",
      "execution_count": null,
      "metadata": {
        "collapsed": true
      },
      "outputs": [],
      "source": []
    },
    {
      "cell_type": "code",
      "execution_count": null,
      "metadata": {
        "collapsed": true
      },
      "outputs": [],
      "source": []
    },
    {
      "cell_type": "markdown",
      "metadata": {
        "collapsed": true
      },
      "source": "### Expand the documents in your index with metadata such as title, original URL, author, and update time."
    },
    {
      "cell_type": "code",
      "execution_count": null,
      "metadata": {
        "collapsed": true
      },
      "outputs": [],
      "source": []
    },
    {
      "cell_type": "code",
      "execution_count": null,
      "metadata": {
        "collapsed": true
      },
      "outputs": [],
      "source": []
    },
    {
      "cell_type": "markdown",
      "metadata": {
        "collapsed": true
      },
      "source": "### Create an index from these new documents. Retrieve 20 search results about Nix (a package manager)."
    },
    {
      "cell_type": "code",
      "execution_count": null,
      "metadata": {
        "collapsed": true
      },
      "outputs": [],
      "source": []
    },
    {
      "cell_type": "code",
      "execution_count": null,
      "metadata": {
        "collapsed": true
      },
      "outputs": [],
      "source": []
    },
    {
      "cell_type": "markdown",
      "metadata": {
        "collapsed": true
      },
      "source": "### For all 20 chunks, print their score, url and the date the blogpost was published."
    },
    {
      "cell_type": "code",
      "execution_count": null,
      "metadata": {
        "collapsed": true
      },
      "outputs": [],
      "source": []
    },
    {
      "cell_type": "code",
      "execution_count": null,
      "metadata": {
        "collapsed": true
      },
      "outputs": [],
      "source": []
    }
  ],
  "metadata": {
    "kernelspec": {
      "display_name": "Python 3 (ipykernel)",
      "language": "python",
      "name": "python3"
    },
    "language_info": {
      "codemirror_mode": {
        "name": "ipython",
        "version": 3
      },
      "file_extension": ".py",
      "mimetype": "text/x-python",
      "name": "python",
      "nbconvert_exporter": "python",
      "pygments_lexer": "ipython3"
    }
  },
  "nbformat": 4,
  "nbformat_minor": 5
}