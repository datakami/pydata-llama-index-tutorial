{
 "cells": [
  {
   "cell_type": "markdown",
   "id": "c913d2a2-f87f-4505-abb4-49e6b2291e52",
   "metadata": {},
   "source": [
    "# Part 2: Building a custom vector index"
   ]
  },
  {
   "cell_type": "markdown",
   "id": "47bccc4d-52f3-4610-afae-1b08278dad37",
   "metadata": {},
   "source": [
    "How to use this notebook: \n",
    "1. Execute all cells under \"Setup\"\n",
    "2. Fill in the exercises below"
   ]
  },
  {
   "cell_type": "markdown",
   "id": "e03ae8f4-83b1-49a8-bf1e-19180366a102",
   "metadata": {},
   "source": [
    "## Setup"
   ]
  },
  {
   "cell_type": "markdown",
   "id": "038506f9-dcca-400c-b10b-5e7e612b1792",
   "metadata": {},
   "source": [
    "### Imports"
   ]
  },
  {
   "cell_type": "code",
   "execution_count": null,
   "id": "effd39ab-b6ba-4d69-8e8f-39f382d7712f",
   "metadata": {},
   "outputs": [],
   "source": [
    "import pprint\n",
    "import json\n",
    "import os\n",
    "import sys\n",
    "from pathlib import Path\n",
    "from loguru import logger\n",
    "import llama_index"
   ]
  },
  {
   "cell_type": "markdown",
   "id": "a4bd8c85-03d8-4894-8dfe-b419d4f6b6f2",
   "metadata": {},
   "source": [
    "### Logging"
   ]
  },
  {
   "cell_type": "code",
   "execution_count": null,
   "id": "5f44daa1-a3e6-45bf-bc6e-8c84fad646b2",
   "metadata": {},
   "outputs": [],
   "source": [
    "logger.remove()\n",
    "logger.add(sys.stdout, format=\"{time} - {level} - {message}\", level=\"DEBUG\")\n",
    "logger.add(\"tutorial_part_1.log\", level=\"DEBUG\")"
   ]
  },
  {
   "cell_type": "code",
   "execution_count": null,
   "id": "84e2e8b1-5b94-4dcf-b109-9e8351b087b4",
   "metadata": {},
   "outputs": [],
   "source": [
    "DATA_PATH = Path(\"data/julia_evans/blogposts.json\")"
   ]
  },
  {
   "cell_type": "markdown",
   "id": "da94c113-deb9-49fc-a072-3f82f82afadd",
   "metadata": {},
   "source": [
    "### Load Julia Evans blogpost data from file"
   ]
  },
  {
   "cell_type": "code",
   "execution_count": null,
   "id": "a5876b6c-0373-43d4-8f28-26b40dbf5f2a",
   "metadata": {},
   "outputs": [],
   "source": [
    "with open(DATA_PATH, 'r') as infile:\n",
    "    blogposts = json.loads(infile.read())"
   ]
  },
  {
   "cell_type": "code",
   "execution_count": null,
   "id": "c02640e6-afcf-4eb6-a5e7-e89cf7914cd3",
   "metadata": {},
   "outputs": [],
   "source": [
    "logger.info(f\"Loaded {len(blogposts)} blogposts from file.\")"
   ]
  },
  {
   "cell_type": "code",
   "execution_count": null,
   "id": "db2b0d29-ce87-454f-b7b8-e6ddd3a52c87",
   "metadata": {},
   "outputs": [],
   "source": [
    "for idx, post in enumerate(blogposts):\n",
    "    print(f\"{idx+1}: {post['title']}\")"
   ]
  },
  {
   "cell_type": "code",
   "execution_count": null,
   "id": "867fe918-339e-4de3-a614-f73a44f4b949",
   "metadata": {},
   "outputs": [],
   "source": [
    "print(\"Example blogpost:\")\n",
    "pprint.pprint(blogposts[0])"
   ]
  },
  {
   "cell_type": "markdown",
   "id": "6b4f10b1-759c-459b-bece-1495c099cf62",
   "metadata": {},
   "source": [
    "### Create a service context\n",
    "- No OpenAI API calls\n",
    "- No large local LLM\n",
    "- Just use the smallest sentence-transformers embeddings model"
   ]
  },
  {
   "cell_type": "markdown",
   "id": "c0bfd191-3038-4ad7-a073-58b93e94f8d1",
   "metadata": {},
   "source": [
    "- all-minilm-l6-v2 has a maximum size of 256 tokens\n",
    "- source: https://www.sbert.net/docs/pretrained_models.html#model-overview"
   ]
  },
  {
   "cell_type": "code",
   "execution_count": null,
   "id": "85531cae-9ec3-47f3-b4c1-e9df4cea39f4",
   "metadata": {},
   "outputs": [],
   "source": [
    "service_context = llama_index.ServiceContext.from_defaults(\n",
    "  embed_model=\"local:sentence-transformers/all-minilm-l6-v2\", chunk_size=256, llm=None\n",
    ")"
   ]
  },
  {
   "cell_type": "markdown",
   "id": "0fb5492d-e290-461a-a3f4-55f23818fee1",
   "metadata": {},
   "source": [
    "### Create documents from the blogposts"
   ]
  },
  {
   "cell_type": "code",
   "execution_count": null,
   "id": "a03e2bf3-5d46-40d1-9ba5-c6d8dda9d0c0",
   "metadata": {},
   "outputs": [],
   "source": [
    "documents = [llama_index.Document(text=blogpost['text']) for blogpost in blogposts]"
   ]
  },
  {
   "cell_type": "code",
   "execution_count": null,
   "id": "e829de61-44ef-4701-b01d-e24bb34b6d78",
   "metadata": {},
   "outputs": [],
   "source": [
    "len(documents)"
   ]
  },
  {
   "cell_type": "code",
   "execution_count": null,
   "id": "91772358-47dc-4e6a-861a-aa9e295805ca",
   "metadata": {},
   "outputs": [],
   "source": [
    "print(\"Example document:\")\n",
    "documents[0]"
   ]
  },
  {
   "cell_type": "markdown",
   "id": "9e8bd061-8ff4-4dd2-922c-117365fd8bdf",
   "metadata": {},
   "source": [
    "# Exercises"
   ]
  },
  {
   "cell_type": "markdown",
   "id": "46baa1a3",
   "metadata": {},
   "source": [
    "### Create a vector index from `documents` (this could take a minute because we're processing lots of text)"
   ]
  },
  {
   "cell_type": "code",
   "execution_count": null,
   "id": "de0ab9f4",
   "metadata": {},
   "outputs": [],
   "source": []
  },
  {
   "cell_type": "code",
   "execution_count": null,
   "id": "2fbe9a8f",
   "metadata": {},
   "outputs": [],
   "source": []
  },
  {
   "cell_type": "markdown",
   "id": "34136e6d",
   "metadata": {},
   "source": [
    "### Retrieve blogposts about DNS"
   ]
  },
  {
   "cell_type": "code",
   "execution_count": null,
   "id": "37bd7378",
   "metadata": {},
   "outputs": [],
   "source": []
  },
  {
   "cell_type": "code",
   "execution_count": null,
   "id": "bf14d573",
   "metadata": {},
   "outputs": [],
   "source": []
  },
  {
   "cell_type": "markdown",
   "id": "a12ec224",
   "metadata": {},
   "source": [
    "### It's really hard to figure out from which blogposts these results are! Create a set of Documents that has the blogpost title as the id."
   ]
  },
  {
   "cell_type": "code",
   "execution_count": null,
   "id": "8e92e46a",
   "metadata": {},
   "outputs": [],
   "source": []
  },
  {
   "cell_type": "code",
   "execution_count": null,
   "id": "63733166",
   "metadata": {},
   "outputs": [],
   "source": []
  },
  {
   "cell_type": "markdown",
   "id": "661de79c",
   "metadata": {},
   "source": [
    "### Build a vector index from these new documents"
   ]
  },
  {
   "cell_type": "code",
   "execution_count": null,
   "id": "8ce48e60",
   "metadata": {},
   "outputs": [],
   "source": []
  },
  {
   "cell_type": "code",
   "execution_count": null,
   "id": "a0e0cf75",
   "metadata": {},
   "outputs": [],
   "source": []
  },
  {
   "cell_type": "markdown",
   "id": "f52bd2bf",
   "metadata": {},
   "source": [
    "### Retrieve blogposts about DNS using the new index. This time, use the id of the source node to check from which blogpost they originate."
   ]
  },
  {
   "cell_type": "code",
   "execution_count": null,
   "id": "a96e6944",
   "metadata": {},
   "outputs": [],
   "source": []
  },
  {
   "cell_type": "code",
   "execution_count": null,
   "id": "d4f25b67",
   "metadata": {},
   "outputs": [],
   "source": []
  },
  {
   "cell_type": "markdown",
   "id": "477af697",
   "metadata": {},
   "source": [
    "### Store your index to disk"
   ]
  },
  {
   "cell_type": "code",
   "execution_count": null,
   "id": "af2691f6",
   "metadata": {},
   "outputs": [],
   "source": []
  },
  {
   "cell_type": "code",
   "execution_count": null,
   "id": "bceedfdf",
   "metadata": {},
   "outputs": [],
   "source": []
  },
  {
   "cell_type": "markdown",
   "id": "5b79bf8b",
   "metadata": {},
   "source": [
    "### Load your index from disk in a new index variable. Hint: you need two ingredients: a storage context and a service context."
   ]
  },
  {
   "cell_type": "code",
   "execution_count": null,
   "id": "fb8e8363",
   "metadata": {},
   "outputs": [],
   "source": []
  },
  {
   "cell_type": "code",
   "execution_count": null,
   "id": "7bd0a2ad",
   "metadata": {},
   "outputs": [],
   "source": []
  },
  {
   "cell_type": "markdown",
   "id": "8be33768",
   "metadata": {},
   "source": [
    "### Expand the documents in your index with metadata such as title, original URL, author, and update time."
   ]
  },
  {
   "cell_type": "code",
   "execution_count": null,
   "id": "7866b337",
   "metadata": {},
   "outputs": [],
   "source": []
  },
  {
   "cell_type": "code",
   "execution_count": null,
   "id": "8b4de861",
   "metadata": {},
   "outputs": [],
   "source": []
  },
  {
   "cell_type": "markdown",
   "id": "a1f5fb02",
   "metadata": {},
   "source": [
    "### Create an index from these new documents. Retrieve 20 search results about Nix (a package manager)."
   ]
  },
  {
   "cell_type": "code",
   "execution_count": null,
   "id": "3e4e8457",
   "metadata": {},
   "outputs": [],
   "source": []
  },
  {
   "cell_type": "code",
   "execution_count": null,
   "id": "3a60b8dd",
   "metadata": {},
   "outputs": [],
   "source": []
  },
  {
   "cell_type": "markdown",
   "id": "daedcd38",
   "metadata": {},
   "source": [
    "### For all 20 chunks, print their score, url and the date the blogpost was published."
   ]
  },
  {
   "cell_type": "code",
   "execution_count": null,
   "id": "2c66c3b1",
   "metadata": {},
   "outputs": [],
   "source": []
  },
  {
   "cell_type": "code",
   "execution_count": null,
   "id": "f6e040ae",
   "metadata": {},
   "outputs": [],
   "source": []
  }
 ],
 "metadata": {
  "kernelspec": {
   "display_name": "Python 3 (ipykernel)",
   "language": "python",
   "name": "python3"
  },
  "language_info": {
   "codemirror_mode": {
    "name": "ipython",
    "version": 3
   },
   "file_extension": ".py",
   "mimetype": "text/x-python",
   "name": "python",
   "nbconvert_exporter": "python",
   "pygments_lexer": "ipython3"
  }
 },
 "nbformat": 4,
 "nbformat_minor": 5
}
